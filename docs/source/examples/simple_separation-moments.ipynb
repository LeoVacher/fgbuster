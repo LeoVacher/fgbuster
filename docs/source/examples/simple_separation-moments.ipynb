{
 "cells": [
  {
   "cell_type": "markdown",
   "metadata": {},
   "source": [
    "# Simple component separation"
   ]
  },
  {
   "cell_type": "code",
   "execution_count": 152,
   "metadata": {},
   "outputs": [
    {
     "name": "stdout",
     "output_type": "stream",
     "text": [
      "The autoreload extension is already loaded. To reload it, use:\n",
      "  %reload_ext autoreload\n"
     ]
    }
   ],
   "source": [
    "%load_ext autoreload\n",
    "%autoreload 2\n",
    "%matplotlib inline\n",
    "\n",
    "import pymaster as nmt\n",
    "import healpy as hp\n",
    "import pysm3\n",
    "\n",
    "from fgbuster import (CMB, Dust, Dustmom, Synchrotron, \n",
    "                      basic_comp_sep, \n",
    "                      get_observation, get_instrument)\n",
    "from fgbuster.visualization import corner_norm"
   ]
  },
  {
   "cell_type": "markdown",
   "metadata": {},
   "source": [
    "## Simulate your frequency maps\n",
    "You have some frequecy maps to clean, they can be either data or simulations. For example, you can use `pysm` to simulate microwave skys with different complexities. ForeGroundBuster adds a couple of functions that make the process even easier."
   ]
  },
  {
   "cell_type": "code",
   "execution_count": 153,
   "metadata": {},
   "outputs": [],
   "source": [
    "nside = 32\n",
    "instrument = get_instrument('LiteBIRD')\n",
    "sky = pysm3.Sky(nside=nside, preset_strings=['d1','s0','c1'])\n",
    "freq_maps = get_observation(instrument, sky, nside=nside)\n",
    "fsky=0.7\n",
    "cut = {0.5:53,0.6:80,0.7:121}\n",
    "mask0 = hp.read_map(Pr+\"Moments/masks/mask_nside512_fsky%spc_P353_smooth10deg_cut%smuK.fits\"%(int(fsky*100),cut[fsky]))\n",
    "mask0 = hp.ud_grade(mask0,nside_out=nside)\n",
    "mask = nmt.mask_apodization(mask0, 10, apotype='C2')\n",
    "b = nmt.bins.NmtBin(nside=nside,lmax=2*nside+1,nlb=5)\n",
    "ell = b.get_effective_ells()\n",
    "\n",
    "#mask=mask0\n",
    "freq_maps = freq_maps*mask\n"
   ]
  },
  {
   "cell_type": "markdown",
   "metadata": {},
   "source": [
    "## Define what you fit for\n",
    "Create your sky model as a list of components"
   ]
  },
  {
   "cell_type": "code",
   "execution_count": 154,
   "metadata": {},
   "outputs": [],
   "source": [
    "components = [CMB(), Dust(353.), Synchrotron(20.)]"
   ]
  },
  {
   "cell_type": "markdown",
   "metadata": {},
   "source": [
    "## Component separation\n",
    "The tools inside ForeGroundBuster allow for very flexible and diverse component separation approaches. However, we also provide a set of predefined function that perform component separation out of the box. They suit most common use cases."
   ]
  },
  {
   "cell_type": "code",
   "execution_count": 155,
   "metadata": {},
   "outputs": [],
   "source": [
    "result = basic_comp_sep(components, instrument, freq_maps)"
   ]
  },
  {
   "cell_type": "markdown",
   "metadata": {},
   "source": [
    "## Explore the results\n",
    "You have just solved for both the spectral parameters of your components and their amplitudes.\n",
    "\n",
    "Get the spectral parameters name and values with"
   ]
  },
  {
   "cell_type": "code",
   "execution_count": 156,
   "metadata": {
    "scrolled": true
   },
   "outputs": [
    {
     "name": "stdout",
     "output_type": "stream",
     "text": [
      "['Dust.beta_d', 'Dust.temp', 'Synchrotron.beta_pl']\n",
      "[ 1.51496242 20.87164808 -2.49908406]\n"
     ]
    }
   ],
   "source": [
    "print(result.params)\n",
    "print(result.x)"
   ]
  },
  {
   "cell_type": "markdown",
   "metadata": {},
   "source": [
    "You can also have a look at their semi-analytic covariance, but remember that it is accurate only the high signal-to-noise regime"
   ]
  },
  {
   "cell_type": "code",
   "execution_count": null,
   "metadata": {},
   "outputs": [],
   "source": [
    "components = [CMB(), Dustmom(353.,beta_d=result.x[0],temp=result.x[1],border=2,torder=0), Synchrotron(20.)]\n",
    "resultmom = basic_comp_sep(components, instrument, freq_maps)\n",
    "\n",
    "componentsT = [CMB(), Dustmom(353.,beta_d=result.x[0],temp=result.x[1],border=0,torder=2), Synchrotron(20.)]\n",
    "resultmomt = basic_comp_sep(componentsT, instrument, freq_maps)"
   ]
  },
  {
   "cell_type": "markdown",
   "metadata": {},
   "source": [
    "## Explore the results\n",
    "You have just solved for both the spectral parameters of your components and their amplitudes.\n",
    "\n",
    "Get the spectral parameters name and values with"
   ]
  },
  {
   "cell_type": "code",
   "execution_count": null,
   "metadata": {},
   "outputs": [],
   "source": [
    "print(resultmom.params)\n",
    "print(resultmom.x)"
   ]
  },
  {
   "cell_type": "code",
   "execution_count": null,
   "metadata": {},
   "outputs": [],
   "source": [
    "corner_norm(resultmom.x, resultmom.Sigma, labels=resultmom.params)"
   ]
  },
  {
   "cell_type": "markdown",
   "metadata": {},
   "source": [
    "The amplitudes of the components are stacked in the ``s`` attribute and they are in the same format of the input frequency maps: Q and U healpix maps, in this case."
   ]
  },
  {
   "cell_type": "code",
   "execution_count": null,
   "metadata": {},
   "outputs": [],
   "source": [
    "def compute_master(f_a, f_b, wsp):\n",
    "    cl_coupled = nmt.compute_coupled_cell(f_a, f_b)\n",
    "    cl_decoupled = wsp.decouple_cell(cl_coupled)\n",
    "    return cl_decoupled\n",
    "\n",
    "incmb = sky.components[2].map[:].value\n",
    "\n",
    "def getres(result):\n",
    "    cmb = np.array([np.ones((result.s[0, 0].shape)),result.s[0, 1],result.s[0, 2]])\n",
    "    fa1 = nmt.NmtField(mask,(cmb[1:]-incmb[1:])*mask,purify_e=True, purify_b=True)\n",
    "    wsp = nmt.NmtWorkspace()\n",
    "    wsp.compute_coupling_matrix(fa1, fa1, b)\n",
    "    cl = compute_master(fa1,fa1,wsp)        \n",
    "    return cl[3]\n",
    "\n",
    "\n",
    "clBB = getres(result)       \n",
    "clBBmom= getres(resultmom)\n",
    "clBBmomt= getres(resultmomt)\n",
    "\n",
    "DL_tens = b.bin_cell(np.load(Pr+\"/Moments/CLsimus/DLtensor_CAMBparamPlanck2018_r=1.npy\")[2,0:2*nside+2])"
   ]
  },
  {
   "cell_type": "code",
   "execution_count": null,
   "metadata": {},
   "outputs": [],
   "source": [
    "plt.plot(ell,clBB,label='mbb')\n",
    "plt.plot(ell,clBBmom,label='+momt')\n",
    "plt.plot(ell,clBBmomt,label='+momb')\n",
    "plt.plot(ell,1e-3*2*np.pi*DL_tens/(ell*(ell+1)),label='BB,r=1e-3',c='k',linestyle='--')\n",
    "plt.legend()\n",
    "plt.loglog()"
   ]
  },
  {
   "cell_type": "code",
   "execution_count": null,
   "metadata": {},
   "outputs": [],
   "source": [
    "hp.mollview((cmb[1]-incmb[1])*mask)"
   ]
  },
  {
   "cell_type": "code",
   "execution_count": 100,
   "metadata": {},
   "outputs": [],
   "source": []
  },
  {
   "cell_type": "code",
   "execution_count": null,
   "metadata": {},
   "outputs": [],
   "source": []
  },
  {
   "cell_type": "code",
   "execution_count": null,
   "metadata": {},
   "outputs": [],
   "source": []
  }
 ],
 "metadata": {
  "kernelspec": {
   "display_name": "fgbuster-momts",
   "language": "python",
   "name": "fgbuster-momts"
  },
  "language_info": {
   "codemirror_mode": {
    "name": "ipython",
    "version": 3
   },
   "file_extension": ".py",
   "mimetype": "text/x-python",
   "name": "python",
   "nbconvert_exporter": "python",
   "pygments_lexer": "ipython3",
   "version": "3.8.18"
  }
 },
 "nbformat": 4,
 "nbformat_minor": 4
}
